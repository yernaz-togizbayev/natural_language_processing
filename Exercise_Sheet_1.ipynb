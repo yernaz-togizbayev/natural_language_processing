{
  "cells": [
    {
      "cell_type": "markdown",
      "metadata": {
        "id": "view-in-github",
        "colab_type": "text"
      },
      "source": [
        "<a href=\"https://colab.research.google.com/github/yernaz-togizbayev/natural_language_processing/blob/main/Exercise_Sheet_1.ipynb\" target=\"_parent\"><img src=\"https://colab.research.google.com/assets/colab-badge.svg\" alt=\"Open In Colab\"/></a>"
      ]
    },
    {
      "cell_type": "markdown",
      "metadata": {
        "id": "jNfxDOd_J_qH"
      },
      "source": [
        "# Natural Language Processing\n",
        "\n",
        "## Exercise Sheet 1"
      ]
    },
    {
      "cell_type": "code",
      "source": [
        "!pip install numpy\n",
        "!pip install matplotlib\n",
        "!pip install nltk"
      ],
      "metadata": {
        "colab": {
          "base_uri": "https://localhost:8080/"
        },
        "id": "F3EAUAhbQXvz",
        "outputId": "af739fc5-0571-43c6-9a48-e68b576c3864"
      },
      "execution_count": 1,
      "outputs": [
        {
          "output_type": "stream",
          "name": "stdout",
          "text": [
            "Requirement already satisfied: numpy in /usr/local/lib/python3.12/dist-packages (2.0.2)\n",
            "Requirement already satisfied: matplotlib in /usr/local/lib/python3.12/dist-packages (3.10.0)\n",
            "Requirement already satisfied: contourpy>=1.0.1 in /usr/local/lib/python3.12/dist-packages (from matplotlib) (1.3.3)\n",
            "Requirement already satisfied: cycler>=0.10 in /usr/local/lib/python3.12/dist-packages (from matplotlib) (0.12.1)\n",
            "Requirement already satisfied: fonttools>=4.22.0 in /usr/local/lib/python3.12/dist-packages (from matplotlib) (4.60.0)\n",
            "Requirement already satisfied: kiwisolver>=1.3.1 in /usr/local/lib/python3.12/dist-packages (from matplotlib) (1.4.9)\n",
            "Requirement already satisfied: numpy>=1.23 in /usr/local/lib/python3.12/dist-packages (from matplotlib) (2.0.2)\n",
            "Requirement already satisfied: packaging>=20.0 in /usr/local/lib/python3.12/dist-packages (from matplotlib) (25.0)\n",
            "Requirement already satisfied: pillow>=8 in /usr/local/lib/python3.12/dist-packages (from matplotlib) (11.3.0)\n",
            "Requirement already satisfied: pyparsing>=2.3.1 in /usr/local/lib/python3.12/dist-packages (from matplotlib) (3.2.4)\n",
            "Requirement already satisfied: python-dateutil>=2.7 in /usr/local/lib/python3.12/dist-packages (from matplotlib) (2.9.0.post0)\n",
            "Requirement already satisfied: six>=1.5 in /usr/local/lib/python3.12/dist-packages (from python-dateutil>=2.7->matplotlib) (1.17.0)\n",
            "Requirement already satisfied: nltk in /usr/local/lib/python3.12/dist-packages (3.9.1)\n",
            "Requirement already satisfied: click in /usr/local/lib/python3.12/dist-packages (from nltk) (8.2.1)\n",
            "Requirement already satisfied: joblib in /usr/local/lib/python3.12/dist-packages (from nltk) (1.5.2)\n",
            "Requirement already satisfied: regex>=2021.8.3 in /usr/local/lib/python3.12/dist-packages (from nltk) (2024.11.6)\n",
            "Requirement already satisfied: tqdm in /usr/local/lib/python3.12/dist-packages (from nltk) (4.67.1)\n"
          ]
        }
      ]
    },
    {
      "cell_type": "code",
      "execution_count": 2,
      "metadata": {
        "colab": {
          "base_uri": "https://localhost:8080/"
        },
        "id": "eKPSWWSOJ_qJ",
        "outputId": "1a0b12ca-dda3-44bb-f1b9-d6320599631a"
      },
      "outputs": [
        {
          "output_type": "stream",
          "name": "stderr",
          "text": [
            "[nltk_data] Downloading package gutenberg to /root/nltk_data...\n",
            "[nltk_data]   Package gutenberg is already up-to-date!\n",
            "[nltk_data] Downloading package genesis to /root/nltk_data...\n",
            "[nltk_data]   Package genesis is already up-to-date!\n",
            "[nltk_data] Downloading package inaugural to /root/nltk_data...\n",
            "[nltk_data]   Package inaugural is already up-to-date!\n",
            "[nltk_data] Downloading package nps_chat to /root/nltk_data...\n",
            "[nltk_data]   Package nps_chat is already up-to-date!\n",
            "[nltk_data] Downloading package webtext to /root/nltk_data...\n",
            "[nltk_data]   Package webtext is already up-to-date!\n",
            "[nltk_data] Downloading package treebank to /root/nltk_data...\n",
            "[nltk_data]   Package treebank is already up-to-date!\n",
            "[nltk_data] Downloading package stopwords to /root/nltk_data...\n",
            "[nltk_data]   Package stopwords is already up-to-date!\n"
          ]
        },
        {
          "output_type": "stream",
          "name": "stdout",
          "text": [
            "*** Introductory Examples for the NLTK Book ***\n",
            "Loading text1, ..., text9 and sent1, ..., sent9\n",
            "Type the name of the text or sentence to view it.\n",
            "Type: 'texts()' or 'sents()' to list the materials.\n",
            "text1: Moby Dick by Herman Melville 1851\n",
            "text2: Sense and Sensibility by Jane Austen 1811\n",
            "text3: The Book of Genesis\n",
            "text4: Inaugural Address Corpus\n",
            "text5: Chat Corpus\n",
            "text6: Monty Python and the Holy Grail\n",
            "text7: Wall Street Journal\n",
            "text8: Personals Corpus\n",
            "text9: The Man Who Was Thursday by G . K . Chesterton 1908\n"
          ]
        }
      ],
      "source": [
        "#imports for all exercises\n",
        "import nltk\n",
        "nltk.download('gutenberg')\n",
        "nltk.download('genesis')\n",
        "nltk.download('inaugural')\n",
        "nltk.download('nps_chat')\n",
        "nltk.download('webtext')\n",
        "nltk.download('treebank')\n",
        "nltk.download('stopwords')\n",
        "\n",
        "from nltk.book import *\n",
        "from nltk import FreqDist"
      ]
    },
    {
      "cell_type": "markdown",
      "metadata": {
        "id": "uC2Uomb2J_qK"
      },
      "source": [
        "### Exercise 1\n",
        "\n",
        "How many words are there in `text2` from `nltk.book`? How many distinct words are there? Calculate the lexical diversity.\n"
      ]
    },
    {
      "cell_type": "code",
      "execution_count": 3,
      "metadata": {
        "colab": {
          "base_uri": "https://localhost:8080/"
        },
        "id": "GhEHEa4JJ_qK",
        "outputId": "b4c6135f-66a5-4563-fa54-348a911358ac"
      },
      "outputs": [
        {
          "output_type": "stream",
          "name": "stdout",
          "text": [
            "Total number of words in text2: 141576\n",
            "Number of distinct words in text2: 6833\n",
            "Lexical diversity of text2: 0.0483\n"
          ]
        }
      ],
      "source": [
        "# Calculate the total number of words\n",
        "total_words = len(text2)\n",
        "print(f\"Total number of words in text2: {total_words}\")\n",
        "\n",
        "# Calculate the number of distinct words\n",
        "distinct_words = len(set(text2))\n",
        "print(f\"Number of distinct words in text2: {distinct_words}\")\n",
        "\n",
        "# Calculate the lexical diversity\n",
        "lexical_diversity = distinct_words / total_words\n",
        "print(f\"Lexical diversity of text2: {lexical_diversity:.4f}\")"
      ]
    },
    {
      "cell_type": "markdown",
      "metadata": {
        "id": "mfoNiuEdJ_qK"
      },
      "source": [
        "### Exercise 2\n",
        "\n",
        "Produce a dispersion plot of the four main protagonists in Sense and Sensibility: Elinor, Marianne, Edward, and Willoughby. What can you observe about the different roles played by the males and females in this novel? Can you identify the couples?"
      ]
    },
    {
      "cell_type": "code",
      "execution_count": 4,
      "metadata": {
        "colab": {
          "base_uri": "https://localhost:8080/",
          "height": 472
        },
        "id": "Y2BrsI0aJ_qL",
        "outputId": "b6128337-12e8-4aff-ea00-068aa348f5db"
      },
      "outputs": [
        {
          "output_type": "display_data",
          "data": {
            "text/plain": [
              "<Figure size 640x480 with 1 Axes>"
            ],
            "image/png": "[encoded data removed]"
          },
          "metadata": {}
        }
      ],
      "source": [
        "text2.dispersion_plot([\"Elinor\", \"Marianne\", \"Edward\", \"Willoughby\"])"
      ]
    },
    {
      "cell_type": "markdown",
      "metadata": {
        "id": "9h5HA70kJ_qL"
      },
      "source": [
        "### Exercise 3\n",
        "\n",
        "Find the collocations in `text6`."
      ]
    },
    {
      "cell_type": "code",
      "execution_count": 5,
      "metadata": {
        "colab": {
          "base_uri": "https://localhost:8080/"
        },
        "id": "tDoeyi7mJ_qL",
        "outputId": "a0360825-ce3e-4659-e828-bc0a16d7ff07"
      },
      "outputs": [
        {
          "output_type": "stream",
          "name": "stdout",
          "text": [
            "BLACK KNIGHT; clop clop; HEAD KNIGHT; mumble mumble; Holy Grail;\n",
            "squeak squeak; FRENCH GUARD; saw saw; Sir Robin; Run away; CARTOON\n",
            "CHARACTER; King Arthur; Iesu domine; Pie Iesu; DEAD PERSON; Round\n",
            "Table; clap clap; OLD MAN; dramatic chord; dona eis\n"
          ]
        }
      ],
      "source": [
        "# Find the collocations in text6\n",
        "text6.collocations()"
      ]
    },
    {
      "cell_type": "markdown",
      "metadata": {
        "id": "pl0cCTzUJ_qM"
      },
      "source": [
        "### Exercise 4\n",
        "\n",
        "Use only the `index()` function to find all the indexes of the word \"sunset\" in `text9`."
      ]
    },
    {
      "cell_type": "code",
      "metadata": {
        "colab": {
          "base_uri": "https://localhost:8080/"
        },
        "id": "17c9b162",
        "outputId": "1f721b98-99cf-455c-b239-93ddfcb58cdc"
      },
      "source": [
        "# List indexes of word 'sunset' in text9\n",
        "indexes = [idx for idx, word in enumerate(text9) if word == 'sunset']\n",
        "\n",
        "print(f\"The indexes of 'sunset' in text9 are: {indexes}\")"
      ],
      "execution_count": 6,
      "outputs": [
        {
          "output_type": "stream",
          "name": "stdout",
          "text": [
            "The indexes of 'sunset' in text9 are: [629, 642, 1432, 1650, 13335, 13381, 16313, 27014, 49340, 52092, 60857, 60862, 64721, 64736]\n"
          ]
        }
      ]
    },
    {
      "cell_type": "markdown",
      "metadata": {
        "id": "KydqntM1J_qM"
      },
      "source": [
        "### Exercise 5\n",
        "\n",
        "What is the difference between the following two lines? Calculate the two values:\n",
        "\n",
        "    len(sorted(set(w.lower() for w in text1)))\n",
        "    len(sorted(w.lower() for w in set(text1)))"
      ]
    },
    {
      "cell_type": "markdown",
      "source": [
        "In the first case, text1 will be iterated firstly and completely converted to lower case, which means, if there were for example 2 words which started once with lower case letter and once with capital letter, after lower() function, two words will become the same word after calling set(), there will stay only 1 word. So, if for example there were multiple similar words like ['Sunset', 'sunset', 'sunSET', 'SUNset'], after set() it will stay only one ['sunset'].\n",
        "\n",
        "In the second case, set() called first. This means, it will first create a set of unique words and only then interate through this set of unique words and convert them into lower case. Then it sorts the set and calculate the length.\n",
        "\n",
        "So the key point is here how the set() operation was applied. In the first scenario, it was covnerted to lower case and only then build a set of unique words. And in the second scenrio, since set was build first, and only then converted them into a lower case, some of words and be repeated in the set. So for example, if there were 'Sunset' and 'sunset', first expression will count them as a one unique word, and second one as two unique words."
      ],
      "metadata": {
        "id": "V95pzFwqUGYl"
      }
    },
    {
      "cell_type": "code",
      "execution_count": 7,
      "metadata": {
        "colab": {
          "base_uri": "https://localhost:8080/"
        },
        "id": "zXrx7EfZJ_qN",
        "outputId": "1c5c401e-735d-4b5a-d1d4-284537480b4d"
      },
      "outputs": [
        {
          "output_type": "stream",
          "name": "stdout",
          "text": [
            "len1: 17231\n",
            "len2: 19317\n"
          ]
        }
      ],
      "source": [
        "len1 = len(sorted(set(w.lower() for w in text1)))\n",
        "len2 = len(sorted(w.lower() for w in set(text1)))\n",
        "\n",
        "print(f\"len1: {len1}\")\n",
        "print(f\"len2: {len2}\")"
      ]
    },
    {
      "cell_type": "markdown",
      "metadata": {
        "id": "Zt0XZinkJ_qN"
      },
      "source": [
        "### Exercise 6\n",
        "\n",
        "Write the slice expression that extracts the last two words of `text2`."
      ]
    },
    {
      "cell_type": "code",
      "execution_count": 8,
      "metadata": {
        "colab": {
          "base_uri": "https://localhost:8080/"
        },
        "id": "za1B3yP8J_qN",
        "outputId": "f6d9891a-1af2-4c17-fe9c-22bac62e3084"
      },
      "outputs": [
        {
          "output_type": "execute_result",
          "data": {
            "text/plain": [
              "['THE', 'END']"
            ]
          },
          "metadata": {},
          "execution_count": 8
        }
      ],
      "source": [
        "# Last two words in text2\n",
        "text2[-2:]"
      ]
    },
    {
      "cell_type": "markdown",
      "metadata": {
        "id": "ydXpUEItJ_qN"
      },
      "source": [
        "### Exercise 7\n",
        "\n",
        "Find all the four-letter words in `text6`. With the help of a frequency distribution (`FreqDist`), show these words in decreasing order of frequency.\n"
      ]
    },
    {
      "cell_type": "code",
      "execution_count": 9,
      "metadata": {
        "colab": {
          "base_uri": "https://localhost:8080/"
        },
        "id": "AdrJSY3DJ_qN",
        "outputId": "1841926a-45cc-450e-918f-813239b65847"
      },
      "outputs": [
        {
          "output_type": "stream",
          "name": "stdout",
          "text": [
            "('that', 84)\n",
            "('your', 75)\n",
            "('What', 65)\n",
            "('this', 59)\n",
            "('Well', 54)\n",
            "('HEAD', 54)\n",
            "('have', 53)\n",
            "('boom', 45)\n",
            "('clop', 39)\n",
            "('with', 38)\n",
            "('away', 38)\n",
            "('here', 34)\n",
            "('Burn', 32)\n",
            "('King', 27)\n",
            "('what', 27)\n",
            "('Come', 26)\n",
            "('just', 25)\n",
            "('tell', 24)\n",
            "('Look', 24)\n",
            "('Holy', 24)\n",
            "('must', 23)\n",
            "('will', 22)\n",
            "('That', 22)\n",
            "('dead', 22)\n",
            "('from', 20)\n",
            "('they', 18)\n",
            "('come', 18)\n",
            "('very', 17)\n",
            "('know', 17)\n",
            "('name', 17)\n",
            "('were', 16)\n",
            "('Stop', 16)\n",
            "('then', 15)\n",
            "('like', 15)\n",
            "('into', 15)\n",
            "('clap', 15)\n",
            "('ZOOT', 14)\n",
            "('them', 13)\n",
            "('CART', 13)\n",
            "('want', 13)\n",
            "('more', 13)\n",
            "('when', 12)\n",
            "('Shut', 12)\n",
            "('make', 12)\n",
            "('sure', 12)\n",
            "('land', 11)\n",
            "('mean', 11)\n",
            "('take', 11)\n",
            "('much', 11)\n",
            "('didn', 11)\n",
            "('find', 11)\n",
            "('good', 11)\n",
            "('time', 11)\n",
            "('room', 11)\n",
            "('seek', 10)\n",
            "('back', 10)\n",
            "('rewr', 10)\n",
            "('king', 10)\n",
            "('Just', 10)\n",
            "('Iesu', 10)\n",
            "('LEFT', 10)\n",
            "('only', 9)\n",
            "('Lord', 9)\n",
            "('thou', 9)\n",
            "('Zoot', 9)\n",
            "('Hold', 9)\n",
            "('They', 8)\n",
            "('thud', 8)\n",
            "('DEAD', 8)\n",
            "('nice', 8)\n",
            "('some', 8)\n",
            "('Then', 8)\n",
            "('does', 8)\n",
            "('dona', 8)\n",
            "('Yeah', 8)\n",
            "('This', 8)\n",
            "('well', 8)\n",
            "('cave', 8)\n",
            "('said', 8)\n",
            "('join', 7)\n",
            "('yeah', 7)\n",
            "('down', 7)\n",
            "('hear', 7)\n",
            "('sing', 7)\n",
            "('last', 7)\n",
            "('Oooh', 7)\n",
            "('been', 7)\n",
            "('look', 7)\n",
            "('seen', 7)\n",
            "('word', 7)\n",
            "('five', 6)\n",
            "('feel', 6)\n",
            "('live', 6)\n",
            "('Back', 6)\n",
            "('stay', 6)\n",
            "('howl', 5)\n",
            "('call', 5)\n",
            "('help', 5)\n",
            "('give', 5)\n",
            "('stop', 5)\n",
            "('bonk', 5)\n",
            "('nose', 5)\n",
            "('wood', 5)\n",
            "('Good', 5)\n",
            "('duck', 5)\n",
            "('else', 5)\n",
            "('head', 5)\n",
            "('kill', 5)\n",
            "('door', 5)\n",
            "('upon', 5)\n",
            "('roar', 5)\n",
            "('beat', 4)\n",
            "('Here', 4)\n",
            "('whop', 4)\n",
            "('over', 4)\n",
            "('many', 4)\n",
            "('pass', 4)\n",
            "('kick', 4)\n",
            "('burn', 4)\n",
            "('ways', 4)\n",
            "('made', 4)\n",
            "('same', 4)\n",
            "('life', 4)\n",
            "('idea', 4)\n",
            "('than', 4)\n",
            "('each', 4)\n",
            "('shut', 4)\n",
            "('lies', 4)\n",
            "('open', 4)\n",
            "('four', 4)\n",
            "('whom', 4)\n",
            "('keep', 4)\n",
            "('note', 4)\n",
            "('most', 4)\n",
            "('hand', 4)\n",
            "('path', 4)\n",
            "('Hand', 4)\n",
            "('wind', 3)\n",
            "('Halt', 3)\n",
            "('lord', 3)\n",
            "('Will', 3)\n",
            "('...]', 3)\n",
            "('says', 3)\n",
            "('soon', 3)\n",
            "('fine', 3)\n",
            "('long', 3)\n",
            "('lost', 3)\n",
            "('ever', 3)\n",
            "('sort', 3)\n",
            "('case', 3)\n",
            "('went', 3)\n",
            "('Aaah', 3)\n",
            "('Have', 3)\n",
            "('Tell', 3)\n",
            "('pond', 3)\n",
            "('fair', 3)\n",
            "('hall', 3)\n",
            "('talk', 3)\n",
            "('eyes', 3)\n",
            "('show', 3)\n",
            "('rrrr', 3)\n",
            "('leap', 3)\n",
            "('WIFE', 3)\n",
            "('Tale', 3)\n",
            "('Wayy', 3)\n",
            "('need', 3)\n",
            "('sigh', 3)\n",
            "('oral', 3)\n",
            "('foul', 3)\n",
            "('sank', 3)\n",
            "('fell', 3)\n",
            "('Make', 3)\n",
            "('died', 3)\n",
            "('knew', 3)\n",
            "('best', 3)\n",
            "('ecky', 3)\n",
            "('Hang', 3)\n",
            "('Pull', 2)\n",
            "('Wait', 2)\n",
            "('line', 2)\n",
            "('held', 2)\n",
            "('such', 2)\n",
            "('next', 2)\n",
            "('shit', 2)\n",
            "('lady', 2)\n",
            "('told', 2)\n",
            "('vote', 2)\n",
            "('Aagh', 2)\n",
            "('None', 2)\n",
            "('left', 2)\n",
            "('mine', 2)\n",
            "('Thee', 2)\n",
            "('Augh', 2)\n",
            "('newt', 2)\n",
            "('also', 2)\n",
            "('Lead', 2)\n",
            "('wise', 2)\n",
            "('home', 2)\n",
            "('able', 2)\n",
            "('With', 2)\n",
            "('busy', 2)\n",
            "('push', 2)\n",
            "('task', 2)\n",
            "('dark', 2)\n",
            "('Allo', 2)\n",
            "('food', 2)\n",
            "('sons', 2)\n",
            "('blow', 2)\n",
            "('Quoi', 2)\n",
            "('Over', 2)\n",
            "('rode', 2)\n",
            "('work', 2)\n",
            "('When', 2)\n",
            "('Open', 2)\n",
            "('rest', 2)\n",
            "('used', 2)\n",
            "('once', 2)\n",
            "('real', 2)\n",
            "('ours', 2)\n",
            "('ARMY', 2)\n",
            "('Neee', 2)\n",
            "('daft', 2)\n",
            "('girl', 2)\n",
            "('huge', 2)\n",
            "('even', 2)\n",
            "('fold', 2)\n",
            "('Tall', 2)\n",
            "('vain', 2)\n",
            "('pull', 2)\n",
            "('cost', 2)\n",
            "('Very', 2)\n",
            "('holy', 2)\n",
            "('test', 2)\n",
            "('tree', 2)\n",
            "('done', 2)\n",
            "('high', 2)\n",
            "('fire', 2)\n",
            "('Fine', 2)\n",
            "('rock', 2)\n",
            "('Keep', 2)\n",
            "('Bors', 2)\n",
            "('BORS', 2)\n",
            "('tiny', 2)\n",
            "('Amen', 2)\n",
            "('side', 2)\n",
            "('Blue', 2)\n",
            "('folk', 2)\n",
            "('KING', 1)\n",
            "('Whoa', 1)\n",
            "('goes', 1)\n",
            "('zone', 1)\n",
            "('grip', 1)\n",
            "('husk', 1)\n",
            "('bird', 1)\n",
            "('[...', 1)\n",
            "('cart', 1)\n",
            "('baby', 1)\n",
            "('hang', 1)\n",
            "('nine', 1)\n",
            "('walk', 1)\n",
            "('Must', 1)\n",
            "('hasn', 1)\n",
            "('self', 1)\n",
            "('week', 1)\n",
            "('Lady', 1)\n",
            "('Lake', 1)\n",
            "('clad', 1)\n",
            "('tart', 1)\n",
            "('bint', 1)\n",
            "('Help', 1)\n",
            "('stab', 1)\n",
            "('move', 1)\n",
            "('Your', 1)\n",
            "('liar', 1)\n",
            "('arms', 1)\n",
            "('draw', 1)\n",
            "('bite', 1)\n",
            "('legs', 1)\n",
            "('wart', 1)\n",
            "('More', 1)\n",
            "('Wood', 1)\n",
            "('True', 1)\n",
            "('Does', 1)\n",
            "('sink', 1)\n",
            "('Pure', 1)\n",
            "('Hill', 1)\n",
            "('film', 1)\n",
            "('band', 1)\n",
            "('ride', 1)\n",
            "('dine', 1)\n",
            "('spam', 1)\n",
            "('pram', 1)\n",
            "('horn', 1)\n",
            "('keen', 1)\n",
            "('Mind', 1)\n",
            "('dogs', 1)\n",
            "('boil', 1)\n",
            "('fart', 1)\n",
            "('mooo', 1)\n",
            "('tear', 1)\n",
            "('plan', 1)\n",
            "('bang', 1)\n",
            "('bois', 1)\n",
            "('wait', 1)\n",
            "('took', 1)\n",
            "('bold', 1)\n",
            "('pulp', 1)\n",
            "('body', 1)\n",
            "('lads', 1)\n",
            "('ugly', 1)\n",
            "('tail', 1)\n",
            "('fled', 1)\n",
            "('feet', 1)\n",
            "('heeh', 1)\n",
            "('wayy', 1)\n",
            "('Oooo', 1)\n",
            "('Away', 1)\n",
            "('beds', 1)\n",
            "('warm', 1)\n",
            "('soft', 1)\n",
            "('Mine', 1)\n",
            "('seem', 1)\n",
            "('dull', 1)\n",
            "('half', 1)\n",
            "('twin', 1)\n",
            "('evil', 1)\n",
            "('boys', 1)\n",
            "('glad', 1)\n",
            "('wasn', 1)\n",
            "('deal', 1)\n",
            "('cope', 1)\n",
            "('nick', 1)\n",
            "('face', 1)\n",
            "('duty', 1)\n",
            "('clue', 1)\n",
            "('aren', 1)\n",
            "('oooh', 1)\n",
            "('Seek', 1)\n",
            "('Peng', 1)\n",
            "('tale', 1)\n",
            "('song', 1)\n",
            "('owns', 1)\n",
            "('rich', 1)\n",
            "('suit', 1)\n",
            "('Most', 1)\n",
            "('kind', 1)\n",
            "('sign', 1)\n",
            "('Stay', 1)\n",
            "('send', 1)\n",
            "('ptoo', 1)\n",
            "('hadn', 1)\n",
            "('jump', 1)\n",
            "('rope', 1)\n",
            "('Didn', 1)\n",
            "('dear', 1)\n",
            "('main', 1)\n",
            "('hell', 1)\n",
            "('bond', 1)\n",
            "('near', 1)\n",
            "('felt', 1)\n",
            "('Uugh', 1)\n",
            "('uuup', 1)\n",
            "('Heee', 1)\n",
            "('town', 1)\n",
            "('sent', 1)\n",
            "('Aggh', 1)\n",
            "('Even', 1)\n",
            "('sell', 1)\n",
            "('Ecky', 1)\n",
            "('zoop', 1)\n",
            "('owli', 1)\n",
            "('zhiv', 1)\n",
            "('Said', 1)\n",
            "('vary', 1)\n",
            "('year', 1)\n",
            "('gave', 1)\n",
            "('miss', 1)\n",
            "('snap', 1)\n",
            "('Ages', 1)\n",
            "('Umhm', 1)\n",
            "('...?', 1)\n",
            "('full', 1)\n",
            "('lair', 1)\n",
            "('sire', 1)\n",
            "('foot', 1)\n",
            "('late', 1)\n",
            "('mile', 1)\n",
            "('wide', 1)\n",
            "('mate', 1)\n",
            "('Chop', 1)\n",
            "('stew', 1)\n",
            "('lose', 1)\n",
            "('risk', 1)\n",
            "('Like', 1)\n",
            "('bows', 1)\n",
            "('Book', 1)\n",
            "('Nine', 1)\n",
            "('bits', 1)\n",
            "('grin', 1)\n",
            "('carp', 1)\n",
            "('bats', 1)\n",
            "('Skip', 1)\n",
            "('less', 1)\n",
            "('Four', 1)\n",
            "('Five', 1)\n",
            "('Once', 1)\n",
            "('pure', 1)\n",
            "(\"'...\", 1)\n",
            "('Ives', 1)\n",
            "('eats', 1)\n",
            "('asks', 1)\n",
            "('cast', 1)\n",
            "('east', 1)\n",
            "('pray', 1)\n",
            "('luck', 1)\n",
            "('easy', 1)\n",
            "('Thou', 1)\n",
            "('hast', 1)\n",
            "('dare', 1)\n",
            "('bent', 1)\n",
            "('wave', 1)\n",
            "('tops', 1)\n",
            "('haaa', 1)\n",
            "('Walk', 1)\n",
            "('gone', 1)\n",
            "('ones', 1)\n",
            "('pack', 1)\n"
          ]
        }
      ],
      "source": [
        "# Find all four-letter words\n",
        "four_letter_words = [word for word in text6 if len(word) == 4]\n",
        "\n",
        "# Frequency distribution\n",
        "fdist = FreqDist(four_letter_words)\n",
        "\n",
        "# Show words in decreasing order of frequency\n",
        "for item in fdist.most_common():\n",
        "    print(item)"
      ]
    },
    {
      "cell_type": "markdown",
      "metadata": {
        "id": "VifhS4-8J_qO"
      },
      "source": [
        "### Exercise 8\n",
        "\n",
        "Create a set for the words in `text6`. Use a `for` and an `if` statement to loop over the words in the set and print all titlecased words with more than one character, one per line.\n"
      ]
    },
    {
      "cell_type": "code",
      "execution_count": 10,
      "metadata": {
        "colab": {
          "base_uri": "https://localhost:8080/"
        },
        "id": "reWIrIfIJ_qO",
        "outputId": "0dd9a4d5-08ee-416f-86bb-f135b35767c2"
      },
      "outputs": [
        {
          "output_type": "stream",
          "name": "stdout",
          "text": [
            "Aaaaaaaaah\n",
            "Aaaaaaaah\n",
            "Aaaaaah\n",
            "Aaaah\n",
            "Aaaaugh\n",
            "Aaagh\n",
            "Aaah\n",
            "Aaauggh\n",
            "Aaaugh\n",
            "Aaauugh\n",
            "Aagh\n",
            "Aah\n",
            "Aauuggghhh\n",
            "Aauuugh\n",
            "Aauuuuugh\n",
            "Aauuuves\n",
            "Action\n",
            "Actually\n",
            "African\n",
            "Ages\n",
            "Aggh\n",
            "Agh\n",
            "Ah\n",
            "Ahh\n",
            "Alice\n",
            "All\n",
            "Allo\n",
            "Almighty\n",
            "Alright\n",
            "Am\n",
            "Amen\n",
            "An\n",
            "Anarcho\n",
            "And\n",
            "Angnor\n",
            "Anthrax\n",
            "Antioch\n",
            "Anybody\n",
            "Anyway\n",
            "Apples\n",
            "Aramaic\n",
            "Are\n",
            "Arimathea\n",
            "Armaments\n",
            "Arthur\n",
            "As\n",
            "Ask\n",
            "Assyria\n",
            "At\n",
            "Attila\n",
            "Augh\n",
            "Autumn\n",
            "Auuuuuuuugh\n",
            "Away\n",
            "Ay\n",
            "Ayy\n",
            "Back\n",
            "Bad\n",
            "Badon\n",
            "Battle\n",
            "Be\n",
            "Beast\n",
            "Bedevere\n",
            "Bedwere\n",
            "Behold\n",
            "Between\n",
            "Beyond\n",
            "Black\n",
            "Bloody\n",
            "Blue\n",
            "Bon\n",
            "Bones\n",
            "Book\n",
            "Bors\n",
            "Brave\n",
            "Bravely\n",
            "Bravest\n",
            "Bread\n",
            "Bridge\n",
            "Bring\n",
            "Bristol\n",
            "Britain\n",
            "Britons\n",
            "Brother\n",
            "Build\n",
            "Burn\n",
            "But\n",
            "By\n",
            "Caerbannog\n",
            "Camaaaaaargue\n",
            "Camelot\n",
            "Castle\n",
            "Chapter\n",
            "Charge\n",
            "Chaste\n",
            "Cherries\n",
            "Chicken\n",
            "Chickennn\n",
            "Chop\n",
            "Christ\n",
            "Churches\n",
            "Cider\n",
            "Clark\n",
            "Clear\n",
            "Come\n",
            "Concorde\n",
            "Consult\n",
            "Cornwall\n",
            "Could\n",
            "Course\n",
            "Court\n",
            "Crapper\n",
            "Cut\n",
            "Dappy\n",
            "Death\n",
            "Defeat\n",
            "Dennis\n",
            "Did\n",
            "Didn\n",
            "Dingo\n",
            "Dis\n",
            "Divine\n",
            "Do\n",
            "Doctor\n",
            "Does\n",
            "Don\n",
            "Dragon\n",
            "Dramatically\n",
            "Ecky\n",
            "Ector\n",
            "Eee\n",
            "Eh\n",
            "Enchanter\n",
            "England\n",
            "English\n",
            "Erbert\n",
            "Ere\n",
            "Erm\n",
            "Eternal\n",
            "European\n",
            "Even\n",
            "Every\n",
            "Everything\n",
            "Ewing\n",
            "Exactly\n",
            "Excalibur\n",
            "Excuse\n",
            "Explain\n",
            "Far\n",
            "Farewell\n",
            "Father\n",
            "Fetchez\n",
            "Fiends\n",
            "Fine\n",
            "First\n",
            "Firstly\n",
            "Five\n",
            "Follow\n",
            "For\n",
            "Forgive\n",
            "Forward\n",
            "Found\n",
            "Four\n",
            "France\n",
            "Frank\n",
            "French\n",
            "Gable\n",
            "Galahad\n",
            "Gallahad\n",
            "Gawain\n",
            "Get\n",
            "Go\n",
            "God\n",
            "Good\n",
            "Gorge\n",
            "Grail\n",
            "Great\n",
            "Greetings\n",
            "Grenade\n",
            "Guards\n",
            "Guy\n",
            "Ha\n",
            "Hah\n",
            "Hallo\n",
            "Halt\n",
            "Hand\n",
            "Hang\n",
            "Have\n",
            "Haw\n",
            "He\n",
            "Hee\n",
            "Heee\n",
            "Heh\n",
            "Hello\n",
            "Help\n",
            "Herbert\n",
            "Here\n",
            "Hey\n",
            "Hic\n",
            "Hill\n",
            "Himself\n",
            "His\n",
            "Hiyaah\n",
            "Hiyah\n",
            "Hiyya\n",
            "Hm\n",
            "Hmm\n",
            "Ho\n",
            "Hoa\n",
            "Hold\n",
            "Holy\n",
            "Honestly\n",
            "Hoo\n",
            "Hooray\n",
            "How\n",
            "Huh\n",
            "Hurry\n",
            "Huy\n",
            "Huyah\n",
            "Hya\n",
            "Hyy\n",
            "Idiom\n",
            "Iesu\n",
            "If\n",
            "Iiiiives\n",
            "Iiiives\n",
            "In\n",
            "Is\n",
            "Isn\n",
            "It\n",
            "Ives\n",
            "Jesus\n",
            "Joseph\n",
            "Just\n",
            "Keep\n",
            "King\n",
            "Knight\n",
            "Knights\n",
            "Lady\n",
            "Lake\n",
            "Lancelot\n",
            "Launcelot\n",
            "Lead\n",
            "Leaving\n",
            "Let\n",
            "Lie\n",
            "Like\n",
            "Listen\n",
            "Loimbard\n",
            "Look\n",
            "Looks\n",
            "Lord\n",
            "Lucky\n",
            "Make\n",
            "Man\n",
            "May\n",
            "Maynard\n",
            "Meanwhile\n",
            "Mercea\n",
            "Message\n",
            "Midget\n",
            "Mind\n",
            "Mine\n",
            "Mmm\n",
            "Monsieur\n",
            "More\n",
            "Morning\n",
            "Most\n",
            "Mother\n",
            "Mud\n",
            "Must\n",
            "My\n",
            "Nador\n",
            "Nay\n",
            "Neee\n",
            "Never\n",
            "Ni\n",
            "Nine\n",
            "Ninepence\n",
            "No\n",
            "None\n",
            "Not\n",
            "Nothing\n",
            "Now\n",
            "Nu\n",
            "Of\n",
            "Off\n",
            "Oh\n",
            "Ohh\n",
            "Old\n",
            "Olfin\n",
            "On\n",
            "Once\n",
            "One\n",
            "Ooh\n",
            "Oooh\n",
            "Oooo\n",
            "Oooohoohohooo\n",
            "Oooooooh\n",
            "Open\n",
            "Or\n",
            "Order\n",
            "Other\n",
            "Oui\n",
            "Our\n",
            "Over\n",
            "Ow\n",
            "Packing\n",
            "Patsy\n",
            "Pendragon\n",
            "Peng\n",
            "Perhaps\n",
            "Peril\n",
            "Picture\n",
            "Pie\n",
            "Piglet\n",
            "Pin\n",
            "Please\n",
            "Practice\n",
            "Prepare\n",
            "Prince\n",
            "Princess\n",
            "Providence\n",
            "Psalms\n",
            "Pull\n",
            "Pure\n",
            "Put\n",
            "Quick\n",
            "Quickly\n",
            "Quiet\n",
            "Quite\n",
            "Quoi\n",
            "Rather\n",
            "Really\n",
            "Recently\n",
            "Remove\n",
            "Rheged\n",
            "Ridden\n",
            "Right\n",
            "Riiight\n",
            "Robin\n",
            "Robinson\n",
            "Roger\n",
            "Round\n",
            "Run\n",
            "Running\n",
            "Said\n",
            "Saint\n",
            "Saxons\n",
            "Say\n",
            "Schools\n",
            "See\n",
            "Seek\n",
            "Shall\n",
            "She\n",
            "Shh\n",
            "Shrubber\n",
            "Shrubberies\n",
            "Shut\n",
            "Silence\n",
            "Silly\n",
            "Since\n",
            "Sir\n",
            "Skip\n",
            "So\n",
            "Sorry\n",
            "Speak\n",
            "Splendid\n",
            "Spring\n",
            "Stand\n",
            "Stay\n",
            "Steady\n",
            "Stop\n",
            "Summer\n",
            "Supposing\n",
            "Supreme\n",
            "Surely\n",
            "Swamp\n",
            "Table\n",
            "Tale\n",
            "Tall\n",
            "Tell\n",
            "Thank\n",
            "That\n",
            "The\n",
            "Thee\n",
            "Then\n",
            "There\n",
            "Therefore\n",
            "They\n",
            "This\n",
            "Those\n",
            "Thou\n",
            "Thpppppt\n",
            "Thppppt\n",
            "Thpppt\n",
            "Thppt\n",
            "Three\n",
            "Throw\n",
            "Thsss\n",
            "Thursday\n",
            "Thy\n",
            "Til\n",
            "Tim\n",
            "Tis\n",
            "To\n",
            "Today\n",
            "Together\n",
            "Too\n",
            "Torment\n",
            "Tower\n",
            "True\n",
            "Try\n",
            "Twenty\n",
            "Two\n",
            "Uh\n",
            "Uhh\n",
            "Ulk\n",
            "Um\n",
            "Umhm\n",
            "Umm\n",
            "Un\n",
            "Unfortunately\n",
            "Until\n",
            "Use\n",
            "Uther\n",
            "Uugh\n",
            "Uuh\n",
            "Very\n",
            "Victory\n",
            "Waa\n",
            "Wait\n",
            "Walk\n",
            "Wayy\n",
            "We\n",
            "Welcome\n",
            "Well\n",
            "What\n",
            "When\n",
            "Where\n",
            "Which\n",
            "Who\n",
            "Whoa\n",
            "Why\n",
            "Will\n",
            "Winston\n",
            "Winter\n",
            "With\n",
            "Woa\n",
            "Wood\n",
            "Would\n",
            "Yapping\n",
            "Yay\n",
            "Yeaaah\n",
            "Yeaah\n",
            "Yeah\n",
            "Yes\n",
            "You\n",
            "Your\n",
            "Yup\n",
            "Zoot\n"
          ]
        }
      ],
      "source": [
        "# Create a set for words in text6\n",
        "text6_set = sorted(set(text6))\n",
        "\n",
        "# Loop over the words in the set and print all titlecased words with more than one character\n",
        "for word in text6_set:\n",
        "    if word.istitle() and len(word) > 1:\n",
        "        print(word)"
      ]
    },
    {
      "cell_type": "markdown",
      "metadata": {
        "id": "DyhYUFQbJ_qO"
      },
      "source": [
        "### Exercise 9\n",
        "\n",
        "Write expressions for finding all words in `text6` that meet the conditions listed below:\n",
        "\n",
        "a) ending in \"ing\",\n",
        "\n",
        "b) containing the letter \"z\",\n",
        "\n",
        "c) containing the letter sequence \"pt\".\n"
      ]
    },
    {
      "cell_type": "code",
      "execution_count": 11,
      "metadata": {
        "colab": {
          "base_uri": "https://localhost:8080/"
        },
        "id": "QAaeHOG2J_qP",
        "outputId": "a665b39e-0184-4d3f-e783-0299cb970be8"
      },
      "outputs": [
        {
          "output_type": "stream",
          "name": "stdout",
          "text": [
            "Words ending in 'ing':\n",
            "['Bring', 'Everything', 'Ewing', 'King', 'Leaving', 'Morning', 'Nothing', 'Packing', 'Running', 'Spring', 'Supposing', 'Yapping', 'acting', 'advancing', 'anging', 'anything', 'appearing', 'approaching', 'asking', 'averting', 'bathing', 'being', 'binding', 'bitching', 'blessing', 'boing', 'bring', 'bringing', 'buggering', 'carrying', 'carving', 'chanting', 'chickening', 'coming', 'counting', 'crying', 'dancing', 'daring', 'depressing', 'dictating', 'distributing', 'doing', 'dragging', 'dressing', 'dying', 'enjoying', 'entering', 'everything', 'excepting', 'exciting', 'exploiting', 'fooling', 'getting', 'going', 'groveling', 'guiding', 'having', 'herring', 'king', 'kneeling', 'laughing', 'learning', 'living', 'looking', 'lying', 'making', 'marrying', 'meeting', 'nothing', 'opening', 'packing', 'passing', 'perpetuating', 'pissing', 'preserving', 'rejoicing', 'repressing', 'resting', 'riding', 'running', 'saying', 'setting', 'shimmering', 'shivering', 'signifying', 'sing', 'singing', 'smashing', 'sneaking', 'something', 'spanking', 'starling', 'string', 'suggesting', 'taking', 'taunting', 'telling', 'thing', 'throwing', 'training', 'understanding', 'undressing', 'using', 'walking', 'warning', 'wedding', 'wetting', 'whispering', 'working', 'wounding', 'writing', 'yelling']\n",
            "\n",
            "Words containing the letter 'z':\n",
            "['AMAZING', 'Fetchez', 'Fetchez', 'ZOOT', 'ZOOT', 'ZOOT', 'ZOOT', 'ZOOT', 'ZOOT', 'ZOOT', 'ZOOT', 'ZOOT', 'ZOOT', 'ZOOT', 'ZOOT', 'ZOOT', 'ZOOT', 'Zoot', 'Zoot', 'Zoot', 'Zoot', 'Zoot', 'Zoot', 'Zoot', 'Zoot', 'Zoot', 'amazes', 'frozen', 'zhiv', 'zone', 'zoo', 'zoop', 'zoosh']\n",
            "\n",
            "Words containing the letter sequence 'pt':\n",
            "['Chapter', 'Thpppppt', 'Thppppt', 'Thpppt', 'Thppt', 'aptly', 'empty', 'excepting', 'ptoo', 'temptation', 'temptress']\n"
          ]
        }
      ],
      "source": [
        "# a) words ending in \"ing\"\n",
        "print(\"Words ending in 'ing':\")\n",
        "print(sorted(word for word in set(text6) if word.endswith(\"ing\")))\n",
        "\n",
        "# b) words containing the letter \"z\"\n",
        "print(\"\\nWords containing the letter 'z':\")\n",
        "print(sorted(word for word in text6 if \"z\" in word or \"Z\" in word))\n",
        "\n",
        "# c) words containing the letter sequence \"pt\"\n",
        "print(\"\\nWords containing the letter sequence 'pt':\")\n",
        "print(sorted(word for word in set(text6) if \"pt\" in word or \"Pt\" in word))"
      ]
    },
    {
      "cell_type": "markdown",
      "metadata": {
        "id": "RGxngpi1J_qP"
      },
      "source": [
        "### Exercise 10\n",
        "\n",
        "Define `sent` to be the list of words `['she', 'sells', 'sea', 'shells', 'by', 'the', 'sea', 'shore']`. Now write code to perform the following tasks:\n",
        "\n",
        "a) print all words beginning with \"sh\",\n",
        "\n",
        "b) print all words longer than four characters."
      ]
    },
    {
      "cell_type": "code",
      "execution_count": 12,
      "metadata": {
        "colab": {
          "base_uri": "https://localhost:8080/"
        },
        "id": "4N2N8GG-J_qP",
        "outputId": "48f04c68-325d-4409-a90c-cd8b1ca0ac9a"
      },
      "outputs": [
        {
          "output_type": "stream",
          "name": "stdout",
          "text": [
            "Words beginning with 'sh':\n",
            "['she', 'shells', 'shore']\n",
            "\n",
            "Words longer than four characters:\n",
            "['sells', 'shells', 'shore']\n"
          ]
        }
      ],
      "source": [
        "# Exercise 10\n",
        "\n",
        "# Define the list 'sent'\n",
        "sent = ['she', 'sells', 'sea', 'shells', 'by', 'the', 'sea', 'shore']\n",
        "\n",
        "# a) print all words beginning with \"sh\"\n",
        "print(\"Words beginning with 'sh':\")\n",
        "print(sorted(word for word in sent if word.startswith(\"sh\")))\n",
        "\n",
        "# b) print all words longer than four characters\n",
        "print(\"\\nWords longer than four characters:\")\n",
        "print(sorted(word for word in sent if len(word) > 4))"
      ]
    },
    {
      "cell_type": "markdown",
      "metadata": {
        "id": "hh1ZvCEkJ_qP"
      },
      "source": [
        "### Exercise 11\n",
        "\n",
        "What does the following Python code do?\n",
        "\n",
        "`sum(len(w) for w in text1)`\n",
        "\n",
        "Can you use it to work out the average word length of `text1`?"
      ]
    },
    {
      "cell_type": "markdown",
      "source": [
        "This Python code iterates through the `text1`, counts the length of word and then sumup all together. So it means, it will calculate the number of all characters in the `text1`, so not only the letters, but also punctuation characters and so on."
      ],
      "metadata": {
        "id": "zHA--Ka1ShL6"
      }
    },
    {
      "cell_type": "code",
      "execution_count": 13,
      "metadata": {
        "colab": {
          "base_uri": "https://localhost:8080/"
        },
        "id": "XlsAHGO0J_qP",
        "outputId": "f385ebab-dc2d-4122-f65e-f702a26b5257"
      },
      "outputs": [
        {
          "output_type": "stream",
          "name": "stdout",
          "text": [
            "Total number of characters in text1: 999044\n",
            "Total number of words in text1: 260819\n",
            "Average word length in text1: 3.830411128023649\n"
          ]
        }
      ],
      "source": [
        "# Calculate the total number of characters\n",
        "characters_total = sum(len(w) for w in text1)\n",
        "\n",
        "# Calculate the total number of words\n",
        "words_total = len(text1)\n",
        "\n",
        "# Calculate the average word length\n",
        "average_word_length = characters_total / words_total\n",
        "\n",
        "print(f\"Total number of characters in text1: {characters_total}\")\n",
        "print(f\"Total number of words in text1: {words_total}\")\n",
        "print(f\"Average word length in text1: {average_word_length}\")"
      ]
    },
    {
      "cell_type": "markdown",
      "metadata": {
        "id": "i2Z0AOJlJ_qP"
      },
      "source": [
        "### Exercise 12\n",
        "\n",
        "Define a function `freq(word, text)` that calculates how often a given word occurs in a text, not using `count()` but a `FreqDist`. Use the function to calculate how often \"promise\" appears in `text4`."
      ]
    },
    {
      "cell_type": "code",
      "execution_count": 14,
      "metadata": {
        "colab": {
          "base_uri": "https://localhost:8080/"
        },
        "id": "CUYHjlTSJ_qQ",
        "outputId": "e861a006-a807-4e00-8ad6-6d195fb11413"
      },
      "outputs": [
        {
          "output_type": "stream",
          "name": "stdout",
          "text": [
            "The word 'promise' appears 54 times in text4.\n"
          ]
        }
      ],
      "source": [
        "# Function to calculate how often a given word occurs in a text\n",
        "def freq(word, text):\n",
        "  return FreqDist(text)[word]\n",
        "\n",
        "# Calculate how often 'promise' appears in text4\n",
        "print(f\"The word 'promise' appears {freq('promise', text4)} times in text4.\")"
      ]
    },
    {
      "cell_type": "code",
      "source": [],
      "metadata": {
        "id": "2IShwinOVOBm"
      },
      "execution_count": 14,
      "outputs": []
    }
  ],
  "metadata": {
    "kernelspec": {
      "display_name": "Python 3",
      "language": "python",
      "name": "python3"
    },
    "language_info": {
      "codemirror_mode": {
        "name": "ipython",
        "version": 3
      },
      "file_extension": ".py",
      "mimetype": "text/x-python",
      "name": "python",
      "nbconvert_exporter": "python",
      "pygments_lexer": "ipython3",
      "version": "3.7.10"
    },
    "colab": {
      "provenance": [],
      "toc_visible": true,
      "include_colab_link": true
    }
  },
  "nbformat": 4,
  "nbformat_minor": 0
}