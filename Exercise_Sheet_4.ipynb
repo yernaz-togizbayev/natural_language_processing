{
  "cells": [
    {
      "cell_type": "markdown",
      "metadata": {
        "id": "5D1ntoq4SWzL"
      },
      "source": [
        "# Natural Language Processing\n",
        "\n",
        "## Exercise Sheet 4"
      ]
    },
    {
      "cell_type": "code",
      "execution_count": 1,
      "metadata": {
        "colab": {
          "base_uri": "https://localhost:8080/"
        },
        "id": "D6TutwaPSWzN",
        "outputId": "a652b872-c0bc-42a9-8d09-58828875aa79"
      },
      "outputs": [
        {
          "output_type": "stream",
          "name": "stderr",
          "text": [
            "[nltk_data] Downloading package gutenberg to /root/nltk_data...\n",
            "[nltk_data]   Package gutenberg is already up-to-date!\n",
            "[nltk_data] Downloading package wordnet to /root/nltk_data...\n",
            "[nltk_data]   Package wordnet is already up-to-date!\n",
            "[nltk_data] Downloading package omw-1.4 to /root/nltk_data...\n",
            "[nltk_data]   Package omw-1.4 is already up-to-date!\n"
          ]
        },
        {
          "output_type": "execute_result",
          "data": {
            "text/plain": [
              "True"
            ]
          },
          "metadata": {},
          "execution_count": 1
        }
      ],
      "source": [
        "#imports for all exercises\n",
        "import pprint\n",
        "import nltk\n",
        "import timeit\n",
        "\n",
        "from collections import Counter\n",
        "from nltk.corpus import gutenberg\n",
        "from nltk.corpus import wordnet as wn\n",
        "from nltk.probability import FreqDist\n",
        "from functools import lru_cache\n",
        "\n",
        "nltk.download('gutenberg')\n",
        "nltk.download('wordnet')\n",
        "nltk.download('omw-1.4')"
      ]
    },
    {
      "cell_type": "markdown",
      "metadata": {
        "id": "9ZXyuNoZSWzN"
      },
      "source": [
        "### Exercise 1\n",
        "\n",
        "Write a program to initialize a two-dimensional array of sets called `word_vowels` and process a list of words, adding each word to `word_vowels[l][v]` where $l$ is the length of the word and $v$ is the number of vowels it contains. Test your program with a 10x10-array and the list `['Alice', 'hat', 'heute', 'ihren', 'freien', 'Tag']`."
      ]
    },
    {
      "cell_type": "code",
      "execution_count": 2,
      "metadata": {
        "colab": {
          "base_uri": "https://localhost:8080/"
        },
        "id": "c9zgTaS2SWzO",
        "outputId": "b4922b2d-f834-44fb-8208-81200c8ebb31"
      },
      "outputs": [
        {
          "output_type": "stream",
          "name": "stdout",
          "text": [
            "Length: 3, Vowels: 1: {'Tag', 'hat'}\n",
            "Length: 5, Vowels: 2: {'ihren'}\n",
            "Length: 5, Vowels: 3: {'heute', 'Alice'}\n",
            "Length: 6, Vowels: 3: {'freien'}\n"
          ]
        }
      ],
      "source": [
        "# Helper function to count vowels\n",
        "def count_vowels(word):\n",
        "    vowels = \"aeiou\"\n",
        "    return sum(1 for letter in word if letter in vowels)\n",
        "\n",
        "# Helper function to process a list of words\n",
        "def process_words(words, word_vowels):\n",
        "  for word in words:\n",
        "    l = len(word)\n",
        "    v = count_vowels(word.lower())\n",
        "    if l < 10 and v < 10:\n",
        "        word_vowels[l][v].add(word)\n",
        "\n",
        "# Test list\n",
        "words = ['Alice', 'hat', 'heute', 'ihren', 'freien', 'Tag']\n",
        "\n",
        "# Initialize a 10x10 array of sets\n",
        "word_vowels = [[set() for _ in range(10)] for _ in range(10)]\n",
        "\n",
        "# Process the list of words\n",
        "process_words(words, word_vowels)\n",
        "\n",
        "# Print non-empty entries\n",
        "for l in range(10):\n",
        "    for v in range(10):\n",
        "        if word_vowels[l][v]:\n",
        "            print(f\"Length: {l}, Vowels: {v}: {word_vowels[l][v]}\")"
      ]
    },
    {
      "cell_type": "markdown",
      "metadata": {
        "id": "q_Ftbw6aSWzO"
      },
      "source": [
        "### Exercise 2\n",
        "\n",
        "Write a program that prints all words that only appear in the last 10\\% of a text. Test your code with the file `'shakespeare-macbeth.txt'` from the Gutenberg Corpus.\n"
      ]
    },
    {
      "cell_type": "code",
      "execution_count": 3,
      "metadata": {
        "colab": {
          "base_uri": "https://localhost:8080/"
        },
        "id": "A1t-C3eqSWzO",
        "outputId": "b762cef5-81d3-4135-ef63-520c0fba7aa7"
      },
      "outputs": [
        {
          "output_type": "stream",
          "name": "stdout",
          "text": [
            "Total number of words: 18272\n",
            "Number of unique words that appears only in last 10%: 190\n",
            "Words that only appear in the last 10% of the text:\n",
            "abhorred\n",
            "absent\n",
            "aduance\n",
            "aduantage\n",
            "ague\n",
            "alarums\n",
            "alowd\n",
            "appeare\n",
            "approaches\n",
            "arbitrate\n",
            "army\n",
            "arriu\n",
            "auouches\n",
            "auoyded\n",
            "backward\n",
            "baited\n",
            "bane\n",
            "battell\n",
            "bear\n",
            "beard\n",
            "beaten\n",
            "beest\n",
            "befor\n",
            "beleeu\n",
            "birnane\n",
            "bloodier\n",
            "bough\n",
            "boughes\n",
            "brandish\n",
            "brauely\n",
            "breefe\n",
            "bruited\n",
            "butcher\n",
            "calling\n",
            "candle\n",
            "censures\n",
            "chambers\n",
            "cheapely\n",
            "childrens\n",
            "clamorous\n",
            "clatter\n",
            "com\n",
            "compast\n",
            "confident\n",
            "constrained\n",
            "continued\n",
            "cool\n",
            "cosins\n",
            "cow\n",
            "creepes\n",
            "crests\n",
            "darefull\n",
            "debt\n",
            "decision\n",
            "direnesse\n",
            "discouery\n",
            "dusty\n",
            "earles\n",
            "either\n",
            "endure\n",
            "equiuocation\n",
            "erre\n",
            "euent\n",
            "exil\n",
            "expence\n",
            "fairer\n",
            "familiar\n",
            "famine\n",
            "fearefull\n",
            "fiends\n",
            "fighting\n",
            "finis\n",
            "flying\n",
            "forc\n",
            "forgot\n",
            "gaze\n",
            "gently\n",
            "ghosts\n",
            "ginne\n",
            "groue\n",
            "haires\n",
            "harbingers\n",
            "hardly\n",
            "harnesse\n",
            "hatefull\n",
            "heereafter\n",
            "henceforth\n",
            "hew\n",
            "hoast\n",
            "horrors\n",
            "hoter\n",
            "hound\n",
            "hurts\n",
            "hyr\n",
            "ideot\n",
            "indure\n",
            "industrious\n",
            "intrenchant\n",
            "iugling\n",
            "knoll\n",
            "leade\n",
            "learne\n",
            "leauy\n",
            "loosest\n",
            "lt\n",
            "lyar\n",
            "lyest\n",
            "malcolmes\n",
            "measur\n",
            "minds\n",
            "missing\n",
            "monsters\n",
            "mothers\n",
            "mouing\n",
            "newer\n",
            "newly\n",
            "next\n",
            "oppos\n",
            "outward\n",
            "paid\n",
            "palter\n",
            "parted\n",
            "pearle\n",
            "petty\n",
            "planted\n",
            "player\n",
            "pole\n",
            "producing\n",
            "professes\n",
            "profit\n",
            "proue\n",
            "prowesse\n",
            "rabbles\n",
            "rarer\n",
            "reckon\n",
            "recorded\n",
            "rendred\n",
            "resolution\n",
            "retreat\n",
            "ript\n",
            "roman\n",
            "rowze\n",
            "salutation\n",
            "score\n",
            "sence\n",
            "seru\n",
            "seyw\n",
            "sheath\n",
            "shield\n",
            "shrieke\n",
            "siedge\n",
            "signifying\n",
            "skreenes\n",
            "slaughterous\n",
            "snares\n",
            "soldier\n",
            "souldiership\n",
            "speculatiue\n",
            "stake\n",
            "staues\n",
            "stroake\n",
            "struts\n",
            "sun\n",
            "syw\n",
            "tarrying\n",
            "taste\n",
            "tearmes\n",
            "tels\n",
            "thereby\n",
            "tied\n",
            "treatise\n",
            "trumpets\n",
            "try\n",
            "vnbattered\n",
            "vndeeded\n",
            "vndon\n",
            "vnshrinking\n",
            "vnsure\n",
            "voice\n",
            "voyces\n",
            "vsurpers\n",
            "vulnerable\n",
            "walls\n",
            "watchfull\n",
            "weapons\n",
            "weary\n",
            "womb\n",
            "wrath\n",
            "writ\n",
            "yesterdayes\n"
          ]
        }
      ],
      "source": [
        "# Load and clean the text\n",
        "macbeth_words = [word.lower() for word in gutenberg.words('shakespeare-macbeth.txt') if word.isalpha()]\n",
        "\n",
        "# Calculate the index for the last 10%\n",
        "text_length = len(macbeth_words)\n",
        "last_10_percent_index = int(text_length * 0.9)\n",
        "\n",
        "# Split the text into the last 10% and the rest of the text\n",
        "last_10_percent_words = macbeth_words[last_10_percent_index:]\n",
        "rest_of_text_words = macbeth_words[:last_10_percent_index]\n",
        "\n",
        "# Count word frequencies in both parts using FreqDist\n",
        "count_last_10_percent_word = FreqDist(last_10_percent_words)\n",
        "count_rest_of_text_word = FreqDist(rest_of_text_words)\n",
        "\n",
        "# Find words that only appear in the last 10%\n",
        "last_10_percent_unique_words = [word for word in count_last_10_percent_word if word not in count_rest_of_text_word]\n",
        "\n",
        "# Print results\n",
        "print(f\"Total number of words: {text_length}\")\n",
        "print(f\"Number of unique words that appears only in last 10%: {len(last_10_percent_unique_words)}\")\n",
        "print(\"Words that only appear in the last 10% of the text:\")\n",
        "for word in sorted(last_10_percent_unique_words):\n",
        "    print(word)"
      ]
    },
    {
      "cell_type": "markdown",
      "metadata": {
        "id": "kiZE4j3XSWzO"
      },
      "source": [
        "### Exercise 3\n",
        "\n",
        "Write a program that takes a sentence expressed as a single string, splits it and counts up the words. Get it to print out each word and the word's frequency, one per line, in alphabetical order. Test it with the sentence: `'das ist heute wieder einmal wirklich ein sehr schöner tag das kann ich dir wieder einmal sagen'`.\n"
      ]
    },
    {
      "cell_type": "code",
      "execution_count": 4,
      "metadata": {
        "colab": {
          "base_uri": "https://localhost:8080/"
        },
        "id": "MR32Cf7wSWzP",
        "outputId": "653d0f00-10d5-4cb9-9552-caac5ca5df31"
      },
      "outputs": [
        {
          "output_type": "stream",
          "name": "stdout",
          "text": [
            "das: 2\n",
            "dir: 1\n",
            "ein: 1\n",
            "einmal: 2\n",
            "heute: 1\n",
            "ich: 1\n",
            "ist: 1\n",
            "kann: 1\n",
            "sagen: 1\n",
            "schöner: 1\n",
            "sehr: 1\n",
            "tag: 1\n",
            "wieder: 2\n",
            "wirklich: 1\n"
          ]
        }
      ],
      "source": [
        "# Test sentence\n",
        "sentence = 'das ist heute wieder einmal wirklich ein sehr schöner tag das kann ich dir wieder einmal sagen'\n",
        "\n",
        "# Split the sentence into words\n",
        "words = sentence.split()\n",
        "\n",
        "# Count up the words\n",
        "word_counts = Counter(words)\n",
        "\n",
        "# Print words and their frequencies in alphabetical order\n",
        "for word, counter in sorted(word_counts.items()):\n",
        "    print(f\"{word}: {counter}\")"
      ]
    },
    {
      "cell_type": "markdown",
      "metadata": {
        "id": "bTUC9FEASWzP"
      },
      "source": [
        "### Exercise 4\n",
        "\n",
        "Write a function `sort_dist(candidates, target)`. The `candidates` are a list of strings representing WordNet synset names, and `target` a synset name string. The function shall sort the `candidates` for proximity to the `target` synset using `shortest_path_distance()`.\n",
        "\n",
        "Test your function with `candidates=['minke_whale.n.01','orca.n.01','novel.n.01', 'tortoise.n.01']` and `target='right_whale.n.01'`."
      ]
    },
    {
      "cell_type": "code",
      "execution_count": 5,
      "metadata": {
        "colab": {
          "base_uri": "https://localhost:8080/"
        },
        "id": "eMglVgCSSWzP",
        "outputId": "b8734ecc-11bc-4e46-d06b-5f222d0733bc"
      },
      "outputs": [
        {
          "output_type": "stream",
          "name": "stdout",
          "text": [
            "Candidates sorted by distance to 'right_whale.n.01':\n",
            "minke_whale.n.01: distance = 3\n",
            "orca.n.01: distance = 5\n",
            "tortoise.n.01: distance = 12\n",
            "novel.n.01: distance = 22\n"
          ]
        }
      ],
      "source": [
        "def sort_dist(candidates, target):\n",
        "  target_synset = wn.synset(target)\n",
        "  candidate_distance_pair = [(candidate, wn.synset(candidate).shortest_path_distance(target_synset)) for candidate in candidates]\n",
        "  candidate_distance_pair.sort(key=lambda x: x[1])\n",
        "  return candidate_distance_pair\n",
        "\n",
        "# Test data\n",
        "candidates = ['minke_whale.n.01','orca.n.01','novel.n.01', 'tortoise.n.01']\n",
        "target = 'right_whale.n.01'\n",
        "\n",
        "sorted_candidates = sort_dist(candidates, target)\n",
        "\n",
        "print(f\"Candidates sorted by distance to '{target}':\")\n",
        "for candidate, distance in sorted_candidates:\n",
        "    print(f\"{candidate}: distance = {distance}\")"
      ]
    },
    {
      "cell_type": "markdown",
      "metadata": {
        "id": "XdvMnVWGSWzP"
      },
      "source": [
        "### Exercise 5\n",
        "\n",
        "Write a recursive function `lookup(trie, key)` that looks up a `key` in a `trie`, and returns the value it finds. The function should cover the following cases:\n",
        "\n",
        "a) it should return a corresponding message if the key is not included in the trie;  \n",
        "b) it should return a message if the key is not unique, i.e. if there are several words for this prefix;  \n",
        "c) if a word is uniquely determined by the key prefix it should be returned as result.\n",
        "\n",
        "Try your function for the following trie and test cases:"
      ]
    },
    {
      "cell_type": "code",
      "execution_count": 6,
      "metadata": {
        "colab": {
          "base_uri": "https://localhost:8080/"
        },
        "id": "DIBM2snNSWzQ",
        "outputId": "35132fbd-3208-457e-9016-38232a523217"
      },
      "outputs": [
        {
          "output_type": "stream",
          "name": "stdout",
          "text": [
            "{'c': {'h': {'a': {'i': {'r': {'value': 'flesh'}},\n",
            "                   't': {'value': 'cat'}},\n",
            "             'e': {'v': {'a': {'l': {'value': 'horse'}}}},\n",
            "             'i': {'c': {'value': 'stylish'},\n",
            "                   'e': {'n': {'value': 'dog'}}}}}}\n"
          ]
        }
      ],
      "source": [
        "def insert(trie, key, value):\n",
        "    if key:\n",
        "        first, rest = key[0], key[1:]\n",
        "        if first not in trie:\n",
        "            trie[first] = {}\n",
        "        insert(trie[first], rest, value)\n",
        "    else:\n",
        "        trie['value'] = value\n",
        "\n",
        "trie = {}\n",
        "insert(trie, 'chat', 'cat')\n",
        "insert(trie, 'chien', 'dog')\n",
        "insert(trie, 'chair', 'flesh')\n",
        "insert(trie, 'chic', 'stylish')\n",
        "insert(trie, 'cheval','horse')\n",
        "trie = dict(trie)\n",
        "pprint.pprint(trie, width=40)"
      ]
    },
    {
      "cell_type": "code",
      "execution_count": 7,
      "metadata": {
        "id": "tGSmLiccSWzQ"
      },
      "outputs": [],
      "source": [
        "def lookup(trie, key):\n",
        "  if key:\n",
        "      first, rest = key[0], key[1:]\n",
        "      if first not in trie:\n",
        "          return f\"Key not found\"\n",
        "      return lookup(trie[first], rest)\n",
        "  else:\n",
        "      if 'value' in trie:\n",
        "        return trie['value'] if len(trie) == 1 else \"Key is not unique\"\n",
        "\n",
        "      if trie:\n",
        "        return lookup(trie[next(iter(trie))], \"\") if len(trie) == 1 else \"Next prefix exists, but key is not unique\"\n",
        "      return f\"Key {key} not found\"\n"
      ]
    },
    {
      "cell_type": "code",
      "execution_count": 8,
      "metadata": {
        "colab": {
          "base_uri": "https://localhost:8080/"
        },
        "id": "6fXnVpKoSWzQ",
        "outputId": "759f5feb-d6cb-4343-f2ac-bd408414ae43"
      },
      "outputs": [
        {
          "output_type": "stream",
          "name": "stdout",
          "text": [
            "cat\n",
            "Next prefix exists, but key is not unique\n",
            "Key not found\n",
            "horse\n",
            "horse\n",
            "horse\n"
          ]
        }
      ],
      "source": [
        "print(lookup(trie, 'chat'))\n",
        "print(lookup(trie, 'cha'))\n",
        "print(lookup(trie, 'souris'))\n",
        "print(lookup(trie, 'cheval'))\n",
        "print(lookup(trie, 'che'))\n",
        "print(lookup(trie, 'chev'))"
      ]
    },
    {
      "cell_type": "markdown",
      "metadata": {
        "id": "EHjzqdWaSWzQ"
      },
      "source": [
        "### Exercise 6\n",
        "\n",
        "Write a recursive function `pp_trie` that pretty prints a trie in alphabetically sorted order by replacing common prefixes with `'-'` characters.\n",
        "Test your implementation with the following example data:"
      ]
    },
    {
      "cell_type": "code",
      "execution_count": 9,
      "metadata": {
        "colab": {
          "base_uri": "https://localhost:8080/"
        },
        "id": "DRWoqJDOSWzR",
        "outputId": "21ab7ad8-58a1-4528-bf16-f6fb6f7ff34c"
      },
      "outputs": [
        {
          "output_type": "stream",
          "name": "stdout",
          "text": [
            "{'c': {'h': {'a': {'i': {'r': {'value': 'flesh'}},\n",
            "                   't': {'value': 'cat'}},\n",
            "             'e': {'v': {'a': {'l': {'value': 'horse'}}}},\n",
            "             'i': {'c': {'value': 'stylish'},\n",
            "                   'e': {'n': {'value': 'dog'}}}}},\n",
            " 's': {'o': {'u': {'r': {'i': {'s': {'value': 'mouse'}}}}}}}\n"
          ]
        }
      ],
      "source": [
        "trie = {}\n",
        "insert(trie, 'chat', 'cat')\n",
        "insert(trie, 'souris', 'mouse')\n",
        "insert(trie, 'chien', 'dog')\n",
        "insert(trie, 'chair', 'flesh')\n",
        "insert(trie, 'chic', 'stylish')\n",
        "insert(trie, 'cheval','horse')\n",
        "trie = dict(trie)\n",
        "pprint.pprint(trie, width=40)"
      ]
    },
    {
      "cell_type": "code",
      "execution_count": 10,
      "metadata": {
        "id": "ewpky5x_SWzS"
      },
      "outputs": [],
      "source": [
        "def pp_trie(trie, prefix='', previous=['']):\n",
        "    if 'value' in trie:\n",
        "        prev = previous[0]\n",
        "        i = 0\n",
        "        for a, b in zip(prev, prefix):\n",
        "            if a == b:\n",
        "              i += 1\n",
        "            else:\n",
        "              break\n",
        "        shown = prefix if i == 0 else '-' * i + prefix[i:]\n",
        "        print(f\"{shown}: {trie['value']}\")\n",
        "        previous[0] = prefix  # remember current word as previous\n",
        "\n",
        "    # Recurse in alphabetical order\n",
        "    for char in sorted(key for key in trie if key != 'value'):\n",
        "        pp_trie(trie[char], prefix + char, previous)\n"
      ]
    },
    {
      "cell_type": "code",
      "execution_count": 11,
      "metadata": {
        "colab": {
          "base_uri": "https://localhost:8080/"
        },
        "id": "acLcNmxaSWzS",
        "outputId": "bb1e87fc-0ba3-486d-8706-e6f0c885c548"
      },
      "outputs": [
        {
          "output_type": "stream",
          "name": "stdout",
          "text": [
            "chair: flesh\n",
            "---t: cat\n",
            "--eval: horse\n",
            "--ic: stylish\n",
            "---en: dog\n",
            "souris: mouse\n"
          ]
        }
      ],
      "source": [
        "pp_trie(trie)"
      ]
    },
    {
      "cell_type": "markdown",
      "metadata": {
        "id": "UryjyvTjSWzS"
      },
      "source": [
        "    chair: flesh\n",
        "    ---t: cat\n",
        "    --eval: horse\n",
        "    --ic: stylish\n",
        "    ---en: dog\n",
        "    souris: mouse"
      ]
    },
    {
      "cell_type": "markdown",
      "metadata": {
        "id": "VhtXLcegSWzS"
      },
      "source": [
        "### Exercise 7\n",
        "\n",
        "The *Catalan numbers* arise in many applications of combinatorial mathematics, including the counting of parse trees. The series can be defined as follows: $C_0 = 1$, and $C_{n+1} = \\sum_{i=0}^{n}C_iC_{n-i}$ for $n\\geq{0}$.\n",
        "\n",
        "Write:\n",
        "\n",
        "a) a recursive function `cn(n)` to compute the $n$th Catalan number $C_{n}$,  \n",
        "b) a corresponding function `cn2(n)` that uses dynamic programming by storing calculated solutions in a lookup table,  \n",
        "c) a function `cn3(n)`, which is identical to `cn(n)` but uses a `memoize` decorator.\n",
        "\n",
        "Test your functions first by calculating the Catalan numbers $C_0\\dots C_{16}$ and then by using the `timeit` module:"
      ]
    },
    {
      "cell_type": "code",
      "execution_count": 12,
      "metadata": {
        "colab": {
          "base_uri": "https://localhost:8080/"
        },
        "id": "AE5iNx1ESWzT",
        "outputId": "942473ef-817f-42c0-c2dd-a4f37c42a25d"
      },
      "outputs": [
        {
          "output_type": "stream",
          "name": "stdout",
          "text": [
            "Catalan numbers from C0 to C16:\n",
            "C0 = 1\n",
            "C1 = 1\n",
            "C2 = 2\n",
            "C3 = 5\n",
            "C4 = 14\n",
            "C5 = 42\n",
            "C6 = 132\n",
            "C7 = 429\n",
            "C8 = 1430\n",
            "C9 = 4862\n",
            "C10 = 16796\n",
            "C11 = 58786\n",
            "C12 = 208012\n",
            "C13 = 742900\n",
            "C14 = 2674440\n",
            "C15 = 9694845\n",
            "C16 = 35357670\n"
          ]
        }
      ],
      "source": [
        "def cn(n):\n",
        "    if n == 0:\n",
        "        return 1\n",
        "    else:\n",
        "        result = 0\n",
        "        for i in range(n):\n",
        "            result += cn(i) * cn(n - 1 - i)\n",
        "        return result\n",
        "def cn2(n, lookup=None):\n",
        "    if lookup is None:\n",
        "        lookup = [0] * (n + 1)\n",
        "        lookup[0] = 1\n",
        "\n",
        "    if lookup[n] != 0:\n",
        "        return lookup[n]\n",
        "\n",
        "    result = 0\n",
        "    for i in range(n):\n",
        "        if lookup[i] == 0:\n",
        "            lookup[i] = cn2(i, lookup)\n",
        "        if lookup[n - 1 - i] == 0:\n",
        "            lookup[n - 1 - i] = cn2(n - 1 - i, lookup)\n",
        "        result += lookup[i] * lookup[n - 1 - i]\n",
        "\n",
        "    lookup[n] = result\n",
        "    return result\n",
        "\n",
        "@lru_cache(maxsize=None)\n",
        "def cn3(n):\n",
        "    if n == 0:\n",
        "        return 1\n",
        "    else:\n",
        "        result = 0\n",
        "        for i in range(n):\n",
        "            result += cn3(i) * cn3(n - 1 - i)\n",
        "        return result\n",
        "print(\"Catalan numbers from C0 to C16:\")\n",
        "\n",
        "for i in range(17):\n",
        "    print(f\"C{i} = {cn(i)}\")"
      ]
    },
    {
      "cell_type": "code",
      "execution_count": 13,
      "metadata": {
        "colab": {
          "base_uri": "https://localhost:8080/"
        },
        "id": "BoiCw1pvSWzT",
        "outputId": "f6fde9cf-8114-412f-c004-eb4d2e62f9a6"
      },
      "outputs": [
        {
          "output_type": "stream",
          "name": "stdout",
          "text": [
            "25.6752082160001\n",
            "0.00012166399937996175\n",
            "4.050799907417968e-05\n"
          ]
        }
      ],
      "source": [
        "print(timeit.timeit(\"cn(16)\", setup=\"from __main__ import cn\", number=5))\n",
        "print(timeit.timeit(\"cn2(16)\", setup=\"from __main__ import cn2\", number=5))\n",
        "print(timeit.timeit(\"cn3(16)\", setup=\"from __main__ import cn3\", number=5))"
      ]
    },
    {
      "cell_type": "code",
      "source": [],
      "metadata": {
        "id": "1Ag_OTaNTK45"
      },
      "execution_count": 13,
      "outputs": []
    }
  ],
  "metadata": {
    "kernelspec": {
      "display_name": "Python 3",
      "language": "python",
      "name": "python3"
    },
    "language_info": {
      "codemirror_mode": {
        "name": "ipython",
        "version": 3
      },
      "file_extension": ".py",
      "mimetype": "text/x-python",
      "name": "python",
      "nbconvert_exporter": "python",
      "pygments_lexer": "ipython3",
      "version": "3.7.8"
    },
    "colab": {
      "provenance": []
    }
  },
  "nbformat": 4,
  "nbformat_minor": 0
}