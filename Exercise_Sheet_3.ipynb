{
  "cells": [
    {
      "cell_type": "markdown",
      "metadata": {
        "id": "jk49rco2DugJ"
      },
      "source": [
        "# Natural Language Processing\n",
        "\n",
        "## Exercise Sheet 3"
      ]
    },
    {
      "cell_type": "code",
      "execution_count": 1,
      "metadata": {
        "colab": {
          "base_uri": "https://localhost:8080/"
        },
        "id": "VRSGayuuDugN",
        "outputId": "66b2c806-db45-4466-d73d-0e5f926c6781"
      },
      "outputs": [
        {
          "output_type": "stream",
          "name": "stderr",
          "text": [
            "[nltk_data] Downloading package brown to /root/nltk_data...\n",
            "[nltk_data]   Package brown is already up-to-date!\n"
          ]
        },
        {
          "output_type": "execute_result",
          "data": {
            "text/plain": [
              "True"
            ]
          },
          "metadata": {},
          "execution_count": 1
        }
      ],
      "source": [
        "#imports for all exercises\n",
        "import nltk\n",
        "import random\n",
        "from nltk.corpus import brown\n",
        "\n",
        "nltk.download('brown')"
      ]
    },
    {
      "cell_type": "markdown",
      "metadata": {
        "id": "drvKa8m_DugO"
      },
      "source": [
        "### Exercise 1\n",
        "\n",
        "Rewrite the following loop as a list comprehension:"
      ]
    },
    {
      "cell_type": "code",
      "execution_count": 2,
      "metadata": {
        "colab": {
          "base_uri": "https://localhost:8080/"
        },
        "id": "LsIYjyovDugP",
        "outputId": "cb1036a9-90a7-4ff3-df08-2b80a9fc2477"
      },
      "outputs": [
        {
          "output_type": "execute_result",
          "data": {
            "text/plain": [
              "[('The', 3),\n",
              " ('dog', 3),\n",
              " ('gave', 4),\n",
              " ('John', 4),\n",
              " ('the', 3),\n",
              " ('newspaper', 9)]"
            ]
          },
          "metadata": {},
          "execution_count": 2
        }
      ],
      "source": [
        "sent = ['The', 'dog', 'gave', 'John', 'the', 'newspaper']\n",
        "result = []\n",
        "for word in sent:\n",
        "    word_len = (word, len(word))\n",
        "    result.append(word_len)\n",
        "result"
      ]
    },
    {
      "cell_type": "code",
      "execution_count": 3,
      "metadata": {
        "colab": {
          "base_uri": "https://localhost:8080/"
        },
        "id": "r0ULwESjDugQ",
        "outputId": "9084d150-730e-468b-e6a4-ce4becd5d9df"
      },
      "outputs": [
        {
          "output_type": "execute_result",
          "data": {
            "text/plain": [
              "[('The', 3),\n",
              " ('dog', 3),\n",
              " ('gave', 4),\n",
              " ('John', 4),\n",
              " ('the', 3),\n",
              " ('newspaper', 9)]"
            ]
          },
          "metadata": {},
          "execution_count": 3
        }
      ],
      "source": [
        "sent = ['The', 'dog', 'gave', 'John', 'the', 'newspaper']\n",
        "result = [(word, len(word)) for word in sent]\n",
        "result"
      ]
    },
    {
      "cell_type": "markdown",
      "metadata": {
        "id": "AB5Hb-lnDugQ"
      },
      "source": [
        "### Exercise 2\n",
        "\n",
        "Pig Latin is a simple transformation of English text. Each word of the text is converted as follows: move any consonant (or consonant cluster) that appears at the start of the word to the end, then append \"ay\", e.g. \"string\" $\\rightarrow$ \"ingstray\". If a word starts with a vowel, just add \"way\" to the end, e.g. \"idle\" $\\rightarrow$ \"idleway\".\n",
        "\n",
        "Write a function to convert a word to Pig Latin. Test it with the words \"pig\", \"cheers\", and \"omelet\".\n"
      ]
    },
    {
      "cell_type": "code",
      "execution_count": 4,
      "metadata": {
        "colab": {
          "base_uri": "https://localhost:8080/"
        },
        "id": "NeL6oswQDugR",
        "outputId": "0e408db5-3cef-4305-e2c1-563004dacde9"
      },
      "outputs": [
        {
          "output_type": "stream",
          "name": "stdout",
          "text": [
            "igpay\n",
            "erscheay\n",
            "omeletway\n"
          ]
        }
      ],
      "source": [
        "def pig_latin(word):\n",
        "    vowels = 'aeiou'\n",
        "    word = word.lower()\n",
        "    pig_latin_word = ''\n",
        "\n",
        "    if word[0] in vowels:\n",
        "      pig_latin_word = word + 'way'\n",
        "    else:\n",
        "      for idx, letter in enumerate(word):\n",
        "        if letter in vowels:\n",
        "          pig_latin_word = word[idx:] + word[:idx] + 'ay'\n",
        "\n",
        "    return pig_latin_word\n",
        "\n",
        "print(pig_latin(\"pig\"))\n",
        "print(pig_latin(\"cheers\"))\n",
        "print(pig_latin(\"omelet\"))"
      ]
    },
    {
      "cell_type": "markdown",
      "metadata": {
        "id": "k6Mk2IOrDugR"
      },
      "source": [
        "### Exercise 3\n",
        "\n",
        "Python's `random` module includes a function `choice()` which randomly chooses an item from a sequence, e.g. `choice('aehh ')` will produce one of four possible characters, with the letter \"h\" being twice as frequent as the others. Write a generator expression that produces a sequence of 500 randomly chosen letters drawn from the string \"aehh \", and put this expression inside a call to the `''.join()` function, to concatenate them into one long string. You should get a result that looks like uncontrolled sneezing or maniacal laughter: \"he  haha ee  heheeh eha\". Use `split()` and `join()` again to normalize the whitespace in this string."
      ]
    },
    {
      "cell_type": "code",
      "execution_count": 5,
      "metadata": {
        "colab": {
          "base_uri": "https://localhost:8080/"
        },
        "id": "HxheUxIRDugR",
        "outputId": "f603d380-37da-4d4b-a63d-f84ce56e50bb"
      },
      "outputs": [
        {
          "output_type": "stream",
          "name": "stdout",
          "text": [
            "Generated string: ha eaaehh hheee ee hha hheahh aaeahaheeh h hahhaeheahehehah hahae aaahaeeh hhe hh heheeeha ahh hheee aaahaa hhaa aaeehhaae haheheaaeahhhh a ahehhe hehehhaeha eaeeah  haaea  hhhhhahh h ah hhhh  hahah   he h eh aaa  aeehehh heehh ehaahehhhea aeh hheahhhe hahhaaahhe  heaaa   hhe e eehhhhha ehhh h ahhhhhehae h hhh ahhaeeehee haa h hheahhhhheahhhhhahaae  hh  ahaahaa hhahhaheeeahahheehahheahhhh haheh a  hh   eh  hh  ehehehhhhhha eh hhhhahh e haea  haeahehh haaehahhaea a haaae hae hhhahhhaeaah e eh aa \n",
            "Normalized string: ha eaaehh hheee ee hha hheahh aaeahaheeh h hahhaeheahehehah hahae aaahaeeh hhe hh heheeeha ahh hheee aaahaa hhaa aaeehhaae haheheaaeahhhh a ahehhe hehehhaeha eaeeah haaea hhhhhahh h ah hhhh hahah he h eh aaa aeehehh heehh ehaahehhhea aeh hheahhhe hahhaaahhe heaaa hhe e eehhhhha ehhh h ahhhhhehae h hhh ahhaeeehee haa h hheahhhhheahhhhhahaae hh ahaahaa hhahhaheeeahahheehahheahhhh haheh a hh eh hh ehehehhhhhha eh hhhhahh e haea haeahehh haaehahhaea a haaae hae hhhahhhaeaah e eh aa\n"
          ]
        }
      ],
      "source": [
        "# Generate a sequence of 500 random characters\n",
        "random_sequence = ''.join(random.choice('aehh ') for _ in range(500))\n",
        "print(\"Generated string:\", random_sequence)\n",
        "\n",
        "# Normalize whitespace in the string\n",
        "normalized_string = \" \".join(random_sequence.split())\n",
        "print(\"Normalized string:\", normalized_string)"
      ]
    },
    {
      "cell_type": "markdown",
      "metadata": {
        "id": "KSQ04mhHDugS"
      },
      "source": [
        "### Exercise 4\n",
        "\n",
        "Readability measures are used to score the reading difficulty of a text, for the purposes of selecting texts of appropriate difficulty for language learners. Let us define $\\mu_w$ to be the average number of letters per word, and $\\mu_s$ to be the average number of words per sentence, in a given text. The Automated Readability Index (ARI) of the text is defined to be: $4.71 \\mu_w + 0.5 \\mu_s - 21.43$. Compute the ARI score for the \"lore\" and \"learned\" genre of the Brown Corpus. Make use of the fact that `nltk.corpus.brown.words()` produces a sequence of words, while `nltk.corpus.brown.sents()` produces a sequence of sentences.\n"
      ]
    },
    {
      "cell_type": "code",
      "execution_count": 6,
      "metadata": {
        "colab": {
          "base_uri": "https://localhost:8080/"
        },
        "id": "YubgerdgDugS",
        "outputId": "9f506f19-d431-4a34-8f15-53ad4a7f32b3"
      },
      "outputs": [
        {
          "output_type": "stream",
          "name": "stdout",
          "text": [
            "Lore ARI: 8.855\n",
            "Learned ARI: 10.589\n"
          ]
        }
      ],
      "source": [
        "def compute_ari_score(genre):\n",
        "    words = brown.words(categories=genre)\n",
        "    sents = brown.sents(categories=genre)\n",
        "\n",
        "    # Count total letters\n",
        "    count_letters = sum(len(word) for word in words if word.isalpha())\n",
        "\n",
        "    mu_w = count_letters / len(words)\n",
        "    mu_s = len(words) / len(sents)\n",
        "\n",
        "    ari = 4.71 * mu_w + 0.5 * mu_s - 21.43\n",
        "\n",
        "    return ari\n",
        "\n",
        "for genre in [\"lore\", \"learned\"]:\n",
        "    print(f\"{genre.capitalize()} ARI: {compute_ari_score(genre):.3f}\")\n"
      ]
    },
    {
      "cell_type": "markdown",
      "metadata": {
        "id": "qniCE-XMDugS"
      },
      "source": [
        "### Exercise 5\n",
        "\n",
        "Define a variable `silly` to contain the string: 'newly formed bland ideas are inexpressible in an infuriating way'. Now write code to perform the following tasks:\n",
        "\n",
        "a) Split `silly` into a list of strings, one per word, using Python's `split()` operation, and save this to a variable called `bland`.  \n",
        "b) Extract the second letter of each word in `silly` and join them into a string, to get 'eoldrnnnna'.  \n",
        "c) Combine the words in `bland` back into a single string, using `join()`. Make sure the words in the resulting string are separated with whitespace.  \n",
        "d) Print the words of `silly` in alphabetical order, one per line.  "
      ]
    },
    {
      "cell_type": "code",
      "execution_count": 7,
      "metadata": {
        "colab": {
          "base_uri": "https://localhost:8080/"
        },
        "id": "3vMv-I85DugT",
        "outputId": "1602d603-71b8-4605-affe-4a62a5937126"
      },
      "outputs": [
        {
          "output_type": "stream",
          "name": "stdout",
          "text": [
            "a) bland: ['newly', 'formed', 'bland', 'ideas', 'are', 'inexpressible', 'in', 'an', 'infuriating', 'way']\n",
            "b) second_letters: eoldrnnnna\n",
            "c) combined_string: newly formed bland ideas are inexpressible in an infuriating way\n",
            "d) Words in alphabetical order:\n",
            "\tan\n",
            "\tare\n",
            "\tbland\n",
            "\tformed\n",
            "\tideas\n",
            "\tin\n",
            "\tinexpressible\n",
            "\tinfuriating\n",
            "\tnewly\n",
            "\tway\n"
          ]
        }
      ],
      "source": [
        "silly = 'newly formed bland ideas are inexpressible in an infuriating way'\n",
        "\n",
        "# a) Split 'silly' into a list of strings\n",
        "bland = silly.split()\n",
        "print(\"a) bland:\", bland)\n",
        "\n",
        "# b) Extract the second letter of each word in 'silly' and join them\n",
        "second_letters = ''.join(word[1] for word in bland)\n",
        "print(\"b) second_letters:\", second_letters)\n",
        "\n",
        "# c) Combine the words in 'bland' back into a single string\n",
        "combined_string = ' '.join(bland)\n",
        "print(\"c) combined_string:\", combined_string)\n",
        "\n",
        "# d) Print the words of 'silly' in alphabetical order\n",
        "print(\"d) Words in alphabetical order:\")\n",
        "for word in sorted(bland):\n",
        "    print('\\t' + word)"
      ]
    },
    {
      "cell_type": "markdown",
      "metadata": {
        "id": "bp5NXcJuDugT"
      },
      "source": [
        "### Exercise 6\n",
        "\n",
        "Rewrite the following nested loop as a nested list comprehension:"
      ]
    },
    {
      "cell_type": "code",
      "execution_count": 8,
      "metadata": {
        "colab": {
          "base_uri": "https://localhost:8080/"
        },
        "id": "zBPm3GaODugU",
        "outputId": "3f5bed3f-96ae-42d2-f2f6-1543be869aae"
      },
      "outputs": [
        {
          "output_type": "execute_result",
          "data": {
            "text/plain": [
              "['aiuio', 'eaiou', 'eouio', 'euoia', 'oauaio', 'uiieioa']"
            ]
          },
          "metadata": {},
          "execution_count": 8
        }
      ],
      "source": [
        "words = ['attribution', 'confabulation', 'tenacious', 'elocution',\n",
        "         'sequoia', 'tenacious', 'unidirectional']\n",
        "vsequences = set()\n",
        "for word in words:\n",
        "    vowels = []\n",
        "    for char in word:\n",
        "        if char in 'aeiou':\n",
        "            vowels.append(char)\n",
        "    vsequences.add(''.join(vowels))\n",
        "sorted(vsequences)"
      ]
    },
    {
      "cell_type": "code",
      "execution_count": 9,
      "metadata": {
        "colab": {
          "base_uri": "https://localhost:8080/"
        },
        "id": "0kFPEssHDugU",
        "outputId": "a163e1f6-d0f4-46d2-9cd3-6c57021d5f27"
      },
      "outputs": [
        {
          "output_type": "execute_result",
          "data": {
            "text/plain": [
              "['aiuio', 'eaiou', 'eouio', 'euoia', 'oauaio', 'uiieioa']"
            ]
          },
          "metadata": {},
          "execution_count": 9
        }
      ],
      "source": [
        "words = ['attribution', 'confabulation', 'tenacious', 'elocution',\n",
        "         'sequoia', 'tenacious', 'unidirectional']\n",
        "\n",
        "vsequences = sorted(set(''.join([char for char in word if char in 'aeiou']) for word in words))\n",
        "\n",
        "vsequences"
      ]
    }
  ],
  "metadata": {
    "kernelspec": {
      "display_name": "Python 3",
      "language": "python",
      "name": "python3"
    },
    "language_info": {
      "codemirror_mode": {
        "name": "ipython",
        "version": 3
      },
      "file_extension": ".py",
      "mimetype": "text/x-python",
      "name": "python",
      "nbconvert_exporter": "python",
      "pygments_lexer": "ipython3",
      "version": "3.7.8"
    },
    "colab": {
      "provenance": []
    }
  },
  "nbformat": 4,
  "nbformat_minor": 0
}